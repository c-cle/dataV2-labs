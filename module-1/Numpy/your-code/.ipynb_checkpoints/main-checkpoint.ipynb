{
 "cells": [
  {
   "cell_type": "markdown",
   "metadata": {},
   "source": [
    "# Intrduction to NumPy\n",
    "\n",
    "\n",
    "#### 1. Import NumPy under the name np."
   ]
  },
  {
   "cell_type": "code",
   "execution_count": 1,
   "metadata": {},
   "outputs": [],
   "source": [
    "# your code here\n",
    "import numpy as np"
   ]
  },
  {
   "cell_type": "markdown",
   "metadata": {},
   "source": [
    "#### 2. Print your NumPy version."
   ]
  },
  {
   "cell_type": "code",
   "execution_count": 4,
   "metadata": {},
   "outputs": [
    {
     "data": {
      "text/plain": [
       "'1.16.5'"
      ]
     },
     "execution_count": 4,
     "metadata": {},
     "output_type": "execute_result"
    }
   ],
   "source": [
    "# your code here\n",
    "np.version.version"
   ]
  },
  {
   "cell_type": "markdown",
   "metadata": {},
   "source": [
    "#### 3. Generate a 2x3x5 3-dimensional array with random values. Assign the array to variable *a*.\n",
    "**Challenge**: there are at least three easy ways that use numpy to generate random arrays. How many ways can you find?"
   ]
  },
  {
   "cell_type": "code",
   "execution_count": 7,
   "metadata": {},
   "outputs": [
    {
     "name": "stdout",
     "output_type": "stream",
     "text": [
      "[[[0.75422633 0.27898458 0.67363069 0.12622303 0.79306645]\n",
      "  [0.50745637 0.10726924 0.63037763 0.30704919 0.78619917]\n",
      "  [0.00672617 0.97572683 0.64794216 0.43512123 0.36578649]]\n",
      "\n",
      " [[0.47742642 0.66975564 0.85098248 0.97282598 0.38106796]\n",
      "  [0.90590082 0.09550331 0.78983617 0.96883603 0.42636159]\n",
      "  [0.99354399 0.08700329 0.70587939 0.17703475 0.75001974]]]\n"
     ]
    }
   ],
   "source": [
    "# Method 1\n",
    "a = np.random.random((2,3,5))\n",
    "print(a)"
   ]
  },
  {
   "cell_type": "code",
   "execution_count": 38,
   "metadata": {},
   "outputs": [
    {
     "name": "stdout",
     "output_type": "stream",
     "text": [
      "[[[0.49133326 0.65916416 0.28486179 0.1156528  0.67415141]\n",
      "  [0.38059277 0.62054881 0.82373994 0.87865311 0.26998911]\n",
      "  [0.59189798 0.31375519 0.72182783 0.93208307 0.56596269]]\n",
      "\n",
      " [[0.5204605  0.423175   0.64447761 0.9041144  0.58786429]\n",
      "  [0.30439971 0.47109117 0.82971352 0.84398984 0.63066051]\n",
      "  [0.5007992  0.95073665 0.70859484 0.96229313 0.70781485]]]\n"
     ]
    }
   ],
   "source": [
    "# Method 2\n",
    "l = [[[np.random.random() for l in range(5)] for c in range(3)] for d in range(2)]\n",
    "a = np.array(l)\n",
    "print(a)"
   ]
  },
  {
   "cell_type": "code",
   "execution_count": 45,
   "metadata": {},
   "outputs": [
    {
     "name": "stdout",
     "output_type": "stream",
     "text": [
      "[[[0.21505313 0.52253289 0.94643252 0.28530586 0.50861334]\n",
      "  [0.13336045 0.97004079 0.711931   0.19919355 0.19800141]\n",
      "  [0.30314591 0.45222068 0.30248523 0.20129056 0.9810386 ]]\n",
      "\n",
      " [[0.08153732 0.92760676 0.5176827  0.85564192 0.60075789]\n",
      "  [0.35249104 0.58608019 0.05507547 0.67926224 0.31795135]\n",
      "  [0.88707115 0.38286533 0.54431475 0.16931346 0.56839244]]]\n"
     ]
    }
   ],
   "source": [
    "# Method 3\n",
    "\n",
    "a = np.random.uniform(0,1,[2,3,5])\n",
    "print(a)"
   ]
  },
  {
   "cell_type": "markdown",
   "metadata": {},
   "source": [
    "#### 4. Print *a*.\n"
   ]
  },
  {
   "cell_type": "code",
   "execution_count": 46,
   "metadata": {},
   "outputs": [
    {
     "name": "stdout",
     "output_type": "stream",
     "text": [
      "[[[0.21505313 0.52253289 0.94643252 0.28530586 0.50861334]\n",
      "  [0.13336045 0.97004079 0.711931   0.19919355 0.19800141]\n",
      "  [0.30314591 0.45222068 0.30248523 0.20129056 0.9810386 ]]\n",
      "\n",
      " [[0.08153732 0.92760676 0.5176827  0.85564192 0.60075789]\n",
      "  [0.35249104 0.58608019 0.05507547 0.67926224 0.31795135]\n",
      "  [0.88707115 0.38286533 0.54431475 0.16931346 0.56839244]]]\n"
     ]
    }
   ],
   "source": [
    "# your code here\n",
    "print(a)"
   ]
  },
  {
   "cell_type": "markdown",
   "metadata": {},
   "source": [
    "#### 5. Create a 5x2x3 3-dimensional array with all values equaling 1. Assign the array to variable *b*."
   ]
  },
  {
   "cell_type": "code",
   "execution_count": 51,
   "metadata": {},
   "outputs": [],
   "source": [
    "# your code here\n",
    "l = [[[1 for l in range(3)] for c in range(2)] for d in range(5)]\n",
    "b = np.array(l)\n"
   ]
  },
  {
   "cell_type": "markdown",
   "metadata": {},
   "source": [
    "#### 6. Print *b*.\n"
   ]
  },
  {
   "cell_type": "code",
   "execution_count": 59,
   "metadata": {},
   "outputs": [
    {
     "name": "stdout",
     "output_type": "stream",
     "text": [
      "[[[1 1 1]\n",
      "  [1 1 1]]\n",
      "\n",
      " [[1 1 1]\n",
      "  [1 1 1]]\n",
      "\n",
      " [[1 1 1]\n",
      "  [1 1 1]]\n",
      "\n",
      " [[1 1 1]\n",
      "  [1 1 1]]\n",
      "\n",
      " [[1 1 1]\n",
      "  [1 1 1]]]\n"
     ]
    }
   ],
   "source": [
    "# your code here\n",
    "print(b)"
   ]
  },
  {
   "cell_type": "markdown",
   "metadata": {},
   "source": [
    "#### 7. Do *a* and *b* have the same size? How do you prove that in Python code?"
   ]
  },
  {
   "cell_type": "code",
   "execution_count": 53,
   "metadata": {},
   "outputs": [
    {
     "data": {
      "text/plain": [
       "True"
      ]
     },
     "execution_count": 53,
     "metadata": {},
     "output_type": "execute_result"
    }
   ],
   "source": [
    "# your code here\n",
    "a.size == b.size"
   ]
  },
  {
   "cell_type": "markdown",
   "metadata": {},
   "source": [
    "#### 8. Are you able to add *a* and *b*? Why or why not?\n"
   ]
  },
  {
   "cell_type": "code",
   "execution_count": 54,
   "metadata": {},
   "outputs": [
    {
     "ename": "ValueError",
     "evalue": "operands could not be broadcast together with shapes (2,3,5) (5,2,3) ",
     "output_type": "error",
     "traceback": [
      "\u001b[1;31m---------------------------------------------------------------------------\u001b[0m",
      "\u001b[1;31mValueError\u001b[0m                                Traceback (most recent call last)",
      "\u001b[1;32m<ipython-input-54-8eaeaf6b406d>\u001b[0m in \u001b[0;36m<module>\u001b[1;34m\u001b[0m\n\u001b[0;32m      1\u001b[0m \u001b[1;31m# your answer here\u001b[0m\u001b[1;33m\u001b[0m\u001b[1;33m\u001b[0m\u001b[1;33m\u001b[0m\u001b[0m\n\u001b[1;32m----> 2\u001b[1;33m \u001b[0mprint\u001b[0m\u001b[1;33m(\u001b[0m\u001b[0mnp\u001b[0m\u001b[1;33m.\u001b[0m\u001b[0madd\u001b[0m\u001b[1;33m(\u001b[0m\u001b[0ma\u001b[0m\u001b[1;33m,\u001b[0m\u001b[0mb\u001b[0m\u001b[1;33m)\u001b[0m\u001b[1;33m)\u001b[0m\u001b[1;33m\u001b[0m\u001b[1;33m\u001b[0m\u001b[0m\n\u001b[0m",
      "\u001b[1;31mValueError\u001b[0m: operands could not be broadcast together with shapes (2,3,5) (5,2,3) "
     ]
    }
   ],
   "source": [
    "# your answer here\n",
    "print(np.add(a,b))\n",
    "\n",
    "#because they have different dimensions"
   ]
  },
  {
   "cell_type": "markdown",
   "metadata": {},
   "source": [
    "#### 9. Transpose *b* so that it has the same structure of *a* (i.e. become a 2x3x5 array). Assign the transposed array to variable *c*."
   ]
  },
  {
   "cell_type": "code",
   "execution_count": 68,
   "metadata": {},
   "outputs": [
    {
     "name": "stdout",
     "output_type": "stream",
     "text": [
      "[[[1 1 1 1 1]\n",
      "  [1 1 1 1 1]\n",
      "  [1 1 1 1 1]]\n",
      "\n",
      " [[1 1 1 1 1]\n",
      "  [1 1 1 1 1]\n",
      "  [1 1 1 1 1]]]\n"
     ]
    }
   ],
   "source": [
    "# your code here\n",
    "c = b.transpose(1,2,0)\n",
    "print(c)"
   ]
  },
  {
   "cell_type": "markdown",
   "metadata": {},
   "source": [
    "#### 10. Try to add *a* and *c*. Now it should work. Assign the sum to variable *d*. But why does it work now?"
   ]
  },
  {
   "cell_type": "code",
   "execution_count": 69,
   "metadata": {},
   "outputs": [
    {
     "name": "stdout",
     "output_type": "stream",
     "text": [
      "[[[1.21505313 1.52253289 1.94643252 1.28530586 1.50861334]\n",
      "  [1.13336045 1.97004079 1.711931   1.19919355 1.19800141]\n",
      "  [1.30314591 1.45222068 1.30248523 1.20129056 1.9810386 ]]\n",
      "\n",
      " [[1.08153732 1.92760676 1.5176827  1.85564192 1.60075789]\n",
      "  [1.35249104 1.58608019 1.05507547 1.67926224 1.31795135]\n",
      "  [1.88707115 1.38286533 1.54431475 1.16931346 1.56839244]]]\n"
     ]
    }
   ],
   "source": [
    "# your code/answer here\n",
    "d = np.add(c,a)\n",
    "print(d)\n",
    "\n",
    "#because they have the same dimensions"
   ]
  },
  {
   "cell_type": "markdown",
   "metadata": {},
   "source": [
    "#### 11. Print *a* and *d*. Notice the difference and relation of the two array in terms of the values? Explain."
   ]
  },
  {
   "cell_type": "code",
   "execution_count": 70,
   "metadata": {},
   "outputs": [
    {
     "name": "stdout",
     "output_type": "stream",
     "text": [
      "[[[0.21505313 0.52253289 0.94643252 0.28530586 0.50861334]\n",
      "  [0.13336045 0.97004079 0.711931   0.19919355 0.19800141]\n",
      "  [0.30314591 0.45222068 0.30248523 0.20129056 0.9810386 ]]\n",
      "\n",
      " [[0.08153732 0.92760676 0.5176827  0.85564192 0.60075789]\n",
      "  [0.35249104 0.58608019 0.05507547 0.67926224 0.31795135]\n",
      "  [0.88707115 0.38286533 0.54431475 0.16931346 0.56839244]]]\n",
      "[[[1.21505313 1.52253289 1.94643252 1.28530586 1.50861334]\n",
      "  [1.13336045 1.97004079 1.711931   1.19919355 1.19800141]\n",
      "  [1.30314591 1.45222068 1.30248523 1.20129056 1.9810386 ]]\n",
      "\n",
      " [[1.08153732 1.92760676 1.5176827  1.85564192 1.60075789]\n",
      "  [1.35249104 1.58608019 1.05507547 1.67926224 1.31795135]\n",
      "  [1.88707115 1.38286533 1.54431475 1.16931346 1.56839244]]]\n"
     ]
    }
   ],
   "source": [
    "# your code/answer here\n",
    "print(a)\n",
    "\n",
    "print(d)\n",
    "\n",
    "# d = a + c    \n",
    "# c = 1 \n",
    "\n",
    "# d = a + 1\n",
    "\n"
   ]
  },
  {
   "cell_type": "markdown",
   "metadata": {},
   "source": [
    "#### 12. Multiply *a* and *c*. Assign the result to *e*."
   ]
  },
  {
   "cell_type": "code",
   "execution_count": 71,
   "metadata": {},
   "outputs": [
    {
     "name": "stdout",
     "output_type": "stream",
     "text": [
      "[[[0.21505313 0.52253289 0.94643252 0.28530586 0.50861334]\n",
      "  [0.13336045 0.97004079 0.711931   0.19919355 0.19800141]\n",
      "  [0.30314591 0.45222068 0.30248523 0.20129056 0.9810386 ]]\n",
      "\n",
      " [[0.08153732 0.92760676 0.5176827  0.85564192 0.60075789]\n",
      "  [0.35249104 0.58608019 0.05507547 0.67926224 0.31795135]\n",
      "  [0.88707115 0.38286533 0.54431475 0.16931346 0.56839244]]]\n"
     ]
    }
   ],
   "source": [
    "# your code here\n",
    "\n",
    "e = np.multiply(c,a)\n",
    "print(e)"
   ]
  },
  {
   "cell_type": "markdown",
   "metadata": {},
   "source": [
    "#### 13. Does *e* equal to *a*? Why or why not?\n"
   ]
  },
  {
   "cell_type": "code",
   "execution_count": 73,
   "metadata": {},
   "outputs": [
    {
     "name": "stdout",
     "output_type": "stream",
     "text": [
      "[[[ True  True  True  True  True]\n",
      "  [ True  True  True  True  True]\n",
      "  [ True  True  True  True  True]]\n",
      "\n",
      " [[ True  True  True  True  True]\n",
      "  [ True  True  True  True  True]\n",
      "  [ True  True  True  True  True]]]\n"
     ]
    }
   ],
   "source": [
    "# your code/answer here\n",
    "\n",
    "print(a==e)\n",
    "\n",
    "# yes because I multyplied a by 1"
   ]
  },
  {
   "cell_type": "markdown",
   "metadata": {},
   "source": [
    "#### 14. Identify the max, min, and mean values in *d*. Assign those values to variables *d_max*, *d_min* and *d_mean*."
   ]
  },
  {
   "cell_type": "code",
   "execution_count": 141,
   "metadata": {},
   "outputs": [
    {
     "name": "stdout",
     "output_type": "stream",
     "text": [
      "1.9810385995643935\n",
      "1.0550754697349571\n",
      "1.4818896646623814\n"
     ]
    }
   ],
   "source": [
    "# your code here\n",
    "\n",
    "d_max = (np.max(d))\n",
    "d_min = (np.min(d))\n",
    "d_mean = (np.mean(d))\n",
    "\n",
    "print(d_max)\n",
    "print(d_min)\n",
    "print(d_mean)\n",
    "\n"
   ]
  },
  {
   "cell_type": "markdown",
   "metadata": {},
   "source": [
    "#### 15. Now we want to label the values in *d*. First create an empty array *f* with the same shape (i.e. 2x3x5) as *d* using `np.empty`.\n"
   ]
  },
  {
   "cell_type": "code",
   "execution_count": 108,
   "metadata": {},
   "outputs": [
    {
     "name": "stdout",
     "output_type": "stream",
     "text": [
      "[[[7.20081316 8.57103645 9.48683795 7.65226417 9.97334297]\n",
      "  [7.31018393 5.82160743 6.57164447 5.52584674 6.21264212]\n",
      "  [5.91503387 9.28562289 8.99766579 6.55314091 5.36089287]]\n",
      "\n",
      " [[8.57779369 6.678564   9.96004986 5.69545082 5.54218664]\n",
      "  [5.26645219 9.8492258  6.47290733 9.48126303 5.95928332]\n",
      "  [7.06326977 9.16828154 9.50988242 8.1322141  6.205272  ]]]\n"
     ]
    }
   ],
   "source": [
    "# your code here\n",
    "f = np.empty([2,3,5])\n",
    "print(f)"
   ]
  },
  {
   "cell_type": "markdown",
   "metadata": {},
   "source": [
    "#### 16. Populate the values in *f*. \n",
    "\n",
    "For each value in *d*, if it's larger than *d_min* but smaller than *d_mean*, assign 25 to the corresponding value in *f*. If a value in *d* is larger than *d_mean* but smaller than *d_max*, assign 75 to the corresponding value in *f*. If a value equals to *d_mean*, assign 50 to the corresponding value in *f*. Assign 0 to the corresponding value(s) in *f* for *d_min* in *d*. Assign 100 to the corresponding value(s) in *f* for *d_max* in *d*. In the end, f should have only the following values: 0, 25, 50, 75, and 100.\n",
    "\n",
    "**Note**: you don't have to use Numpy in this question."
   ]
  },
  {
   "cell_type": "code",
   "execution_count": 195,
   "metadata": {},
   "outputs": [
    {
     "name": "stdout",
     "output_type": "stream",
     "text": [
      "[[[ 25  75  75  25  75]\n",
      "  [ 25  75  75  25  25]\n",
      "  [ 25  25  25  25 100]]\n",
      "\n",
      " [[ 25  75  75  75  75]\n",
      "  [ 25  75   0  75  25]\n",
      "  [ 75  25  75  25  75]]]\n"
     ]
    }
   ],
   "source": [
    "# your code here\n",
    "\n",
    "d_list = np.ndarray.tolist(d)\n",
    "\n",
    "new_list = []\n",
    "\n",
    "for y in d_list:\n",
    "    for w in y:\n",
    "        for z in w: \n",
    "            if z > d_min and z < d_mean:\n",
    "                x = 25\n",
    "                new_list.append(x)\n",
    "            elif z > d_mean and z < d_max:\n",
    "                x = 75\n",
    "                new_list.append(x)\n",
    "            elif z == d_mean:\n",
    "                x = 50\n",
    "                new_list.append(x)\n",
    "            elif z == d_min:\n",
    "                x = 0\n",
    "                new_list.append(x)\n",
    "            elif z == d_max:\n",
    "                x = 100\n",
    "                new_list.append(x)\n",
    "            else:\n",
    "                z = 10100101010\n",
    "                new_list.append(x)\n",
    "                \n",
    "\n",
    "f_list_a = new_list[0:5],new_list[5:10],new_list[10:15]\n",
    "\n",
    "f_list_b = new_list[15:20],new_list[20:25],new_list[25:30]\n",
    "           \n",
    "f_list = f_list_a,f_list_b\n",
    "\n",
    "f = np.array(f_list)\n",
    "\n",
    "print(f)\n",
    "\n"
   ]
  },
  {
   "cell_type": "markdown",
   "metadata": {},
   "source": [
    "#### 17. Print *d* and *f*. Do you have your expected *f*?\n",
    "For instance, if your *d* is:\n",
    "```python\n",
    "[[[1.85836099, 1.67064465, 1.62576044, 1.40243961, 1.88454931],\n",
    "[1.75354326, 1.69403643, 1.36729252, 1.61415071, 1.12104981],\n",
    "[1.72201435, 1.1862918 , 1.87078449, 1.7726778 , 1.88180042]],\n",
    "[[1.44747908, 1.31673383, 1.02000951, 1.52218947, 1.97066381],\n",
    "[1.79129243, 1.74983003, 1.96028037, 1.85166831, 1.65450881],\n",
    "[1.18068344, 1.9587381 , 1.00656599, 1.93402165, 1.73514584]]]\n",
    "```\n",
    "Your *f* should be:\n",
    "```python\n",
    "[[[ 75.,  75.,  75.,  25.,  75.],\n",
    "[ 75.,  75.,  25.,  25.,  25.],\n",
    "[ 75.,  25.,  75.,  75.,  75.]],\n",
    "[[ 25.,  25.,  25.,  25., 100.],\n",
    "[ 75.,  75.,  75.,  75.,  75.],\n",
    "[ 25.,  75.,   0.,  75.,  75.]]]\n",
    "```"
   ]
  },
  {
   "cell_type": "code",
   "execution_count": 196,
   "metadata": {},
   "outputs": [
    {
     "name": "stdout",
     "output_type": "stream",
     "text": [
      "[[[1.21505313 1.52253289 1.94643252 1.28530586 1.50861334]\n",
      "  [1.13336045 1.97004079 1.711931   1.19919355 1.19800141]\n",
      "  [1.30314591 1.45222068 1.30248523 1.20129056 1.9810386 ]]\n",
      "\n",
      " [[1.08153732 1.92760676 1.5176827  1.85564192 1.60075789]\n",
      "  [1.35249104 1.58608019 1.05507547 1.67926224 1.31795135]\n",
      "  [1.88707115 1.38286533 1.54431475 1.16931346 1.56839244]]]\n",
      "[[[ 25  75  75  25  75]\n",
      "  [ 25  75  75  25  25]\n",
      "  [ 25  25  25  25 100]]\n",
      "\n",
      " [[ 25  75  75  75  75]\n",
      "  [ 25  75   0  75  25]\n",
      "  [ 75  25  75  25  75]]]\n"
     ]
    }
   ],
   "source": [
    "print(d)\n",
    "\n",
    "print(f)\n",
    "\n",
    "# your code here"
   ]
  },
  {
   "cell_type": "markdown",
   "metadata": {},
   "source": [
    "#### 18. Bonus question: instead of using numbers (i.e. 0, 25, 50, 75, and 100), use string values  (\"A\", \"B\", \"C\", \"D\", and \"E\") to label the array elements. For the example above, the expected result is:\n",
    "\n",
    "```python\n",
    "[[[ 'D',  'D',  'D',  'B',  'D'],\n",
    "[ 'D',  'D',  'B',  'B',  'B'],\n",
    "[ 'D',  'B',  'D',  'D',  'D']],\n",
    "[[ 'B',  'B',  'B',  'B',  'E'],\n",
    "[ 'D',  'D',  'D',  'D',  'D'],\n",
    "[ 'B',  'D',   'A',  'D', 'D']]]\n",
    "```\n",
    "**Note**: you don't have to use Numpy in this question."
   ]
  },
  {
   "cell_type": "code",
   "execution_count": null,
   "metadata": {},
   "outputs": [],
   "source": [
    "# your code here"
   ]
  }
 ],
 "metadata": {
  "kernelspec": {
   "display_name": "Python 3",
   "language": "python",
   "name": "python3"
  },
  "language_info": {
   "codemirror_mode": {
    "name": "ipython",
    "version": 3
   },
   "file_extension": ".py",
   "mimetype": "text/x-python",
   "name": "python",
   "nbconvert_exporter": "python",
   "pygments_lexer": "ipython3",
   "version": "3.7.4"
  }
 },
 "nbformat": 4,
 "nbformat_minor": 2
}
